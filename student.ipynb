{
 "cells": [
  {
   "cell_type": "code",
   "execution_count": 280,
   "metadata": {},
   "outputs": [],
   "source": [
    "import pandas as pd\n",
    "import numpy as np\n",
    "import seaborn as sns\n",
    "import matplotlib.pyplot as plt\n",
    "# Import numpy to generate some dummy data\n",
    "%matplotlib inline"
   ]
  },
  {
   "cell_type": "code",
   "execution_count": 281,
   "metadata": {},
   "outputs": [],
   "source": [
    "df1=pd.read_csv('zippedData/bom.movie_gross.csv.gz')"
   ]
  },
  {
   "cell_type": "code",
   "execution_count": 282,
   "metadata": {},
   "outputs": [
    {
     "data": {
      "text/html": [
       "<div>\n",
       "<style scoped>\n",
       "    .dataframe tbody tr th:only-of-type {\n",
       "        vertical-align: middle;\n",
       "    }\n",
       "\n",
       "    .dataframe tbody tr th {\n",
       "        vertical-align: top;\n",
       "    }\n",
       "\n",
       "    .dataframe thead th {\n",
       "        text-align: right;\n",
       "    }\n",
       "</style>\n",
       "<table border=\"1\" class=\"dataframe\">\n",
       "  <thead>\n",
       "    <tr style=\"text-align: right;\">\n",
       "      <th></th>\n",
       "      <th>title</th>\n",
       "      <th>studio</th>\n",
       "      <th>domestic_gross</th>\n",
       "      <th>foreign_gross</th>\n",
       "      <th>year</th>\n",
       "    </tr>\n",
       "  </thead>\n",
       "  <tbody>\n",
       "    <tr>\n",
       "      <th>0</th>\n",
       "      <td>Toy Story 3</td>\n",
       "      <td>BV</td>\n",
       "      <td>415000000.00</td>\n",
       "      <td>652000000</td>\n",
       "      <td>2010</td>\n",
       "    </tr>\n",
       "    <tr>\n",
       "      <th>1</th>\n",
       "      <td>Alice in Wonderland (2010)</td>\n",
       "      <td>BV</td>\n",
       "      <td>334200000.00</td>\n",
       "      <td>691300000</td>\n",
       "      <td>2010</td>\n",
       "    </tr>\n",
       "    <tr>\n",
       "      <th>2</th>\n",
       "      <td>Harry Potter and the Deathly Hallows Part 1</td>\n",
       "      <td>WB</td>\n",
       "      <td>296000000.00</td>\n",
       "      <td>664300000</td>\n",
       "      <td>2010</td>\n",
       "    </tr>\n",
       "    <tr>\n",
       "      <th>3</th>\n",
       "      <td>Inception</td>\n",
       "      <td>WB</td>\n",
       "      <td>292600000.00</td>\n",
       "      <td>535700000</td>\n",
       "      <td>2010</td>\n",
       "    </tr>\n",
       "    <tr>\n",
       "      <th>4</th>\n",
       "      <td>Shrek Forever After</td>\n",
       "      <td>P/DW</td>\n",
       "      <td>238700000.00</td>\n",
       "      <td>513900000</td>\n",
       "      <td>2010</td>\n",
       "    </tr>\n",
       "  </tbody>\n",
       "</table>\n",
       "</div>"
      ],
      "text/plain": [
       "                                         title studio  domestic_gross  \\\n",
       "0                                  Toy Story 3     BV    415000000.00   \n",
       "1                   Alice in Wonderland (2010)     BV    334200000.00   \n",
       "2  Harry Potter and the Deathly Hallows Part 1     WB    296000000.00   \n",
       "3                                    Inception     WB    292600000.00   \n",
       "4                          Shrek Forever After   P/DW    238700000.00   \n",
       "\n",
       "  foreign_gross  year  \n",
       "0     652000000  2010  \n",
       "1     691300000  2010  \n",
       "2     664300000  2010  \n",
       "3     535700000  2010  \n",
       "4     513900000  2010  "
      ]
     },
     "execution_count": 282,
     "metadata": {},
     "output_type": "execute_result"
    }
   ],
   "source": [
    "df1.head()"
   ]
  },
  {
   "cell_type": "code",
   "execution_count": 283,
   "metadata": {},
   "outputs": [
    {
     "data": {
      "text/plain": [
       "IFC      166\n",
       "Uni.     147\n",
       "WB       140\n",
       "Fox      136\n",
       "Magn.    136\n",
       "        ... \n",
       "CAVU       1\n",
       "JS         1\n",
       "CP         1\n",
       "SEG        1\n",
       "BGP        1\n",
       "Name: studio, Length: 257, dtype: int64"
      ]
     },
     "execution_count": 283,
     "metadata": {},
     "output_type": "execute_result"
    }
   ],
   "source": [
    "df1['studio'].value_counts()"
   ]
  },
  {
   "cell_type": "code",
   "execution_count": 284,
   "metadata": {},
   "outputs": [
    {
     "name": "stdout",
     "output_type": "stream",
     "text": [
      "<class 'pandas.core.frame.DataFrame'>\n",
      "RangeIndex: 3387 entries, 0 to 3386\n",
      "Data columns (total 5 columns):\n",
      " #   Column          Non-Null Count  Dtype  \n",
      "---  ------          --------------  -----  \n",
      " 0   title           3387 non-null   object \n",
      " 1   studio          3382 non-null   object \n",
      " 2   domestic_gross  3359 non-null   float64\n",
      " 3   foreign_gross   2037 non-null   object \n",
      " 4   year            3387 non-null   int64  \n",
      "dtypes: float64(1), int64(1), object(3)\n",
      "memory usage: 132.4+ KB\n"
     ]
    }
   ],
   "source": [
    "df1.info()"
   ]
  },
  {
   "cell_type": "code",
   "execution_count": 285,
   "metadata": {},
   "outputs": [],
   "source": [
    "df2=pd.read_csv('zippedData/imdb.name.basics.csv.gz')"
   ]
  },
  {
   "cell_type": "code",
   "execution_count": 286,
   "metadata": {},
   "outputs": [],
   "source": [
    "df3=pd.read_csv('zippedData/imdb.title.akas.csv.gz')"
   ]
  },
  {
   "cell_type": "code",
   "execution_count": 322,
   "metadata": {},
   "outputs": [],
   "source": [
    "#df4=pd.read_csv('zippedData/imdb.title.basics.csv.gz', dtype=str)\n",
    "df4=pd.read_csv('zippedData/imdb.title.basics.csv.gz')"
   ]
  },
  {
   "cell_type": "code",
   "execution_count": 288,
   "metadata": {
    "scrolled": true
   },
   "outputs": [
    {
     "data": {
      "text/html": [
       "<div>\n",
       "<style scoped>\n",
       "    .dataframe tbody tr th:only-of-type {\n",
       "        vertical-align: middle;\n",
       "    }\n",
       "\n",
       "    .dataframe tbody tr th {\n",
       "        vertical-align: top;\n",
       "    }\n",
       "\n",
       "    .dataframe thead th {\n",
       "        text-align: right;\n",
       "    }\n",
       "</style>\n",
       "<table border=\"1\" class=\"dataframe\">\n",
       "  <thead>\n",
       "    <tr style=\"text-align: right;\">\n",
       "      <th></th>\n",
       "      <th>tconst</th>\n",
       "      <th>primary_title</th>\n",
       "      <th>original_title</th>\n",
       "      <th>start_year</th>\n",
       "      <th>runtime_minutes</th>\n",
       "      <th>genres</th>\n",
       "    </tr>\n",
       "  </thead>\n",
       "  <tbody>\n",
       "    <tr>\n",
       "      <th>0</th>\n",
       "      <td>tt0063540</td>\n",
       "      <td>Sunghursh</td>\n",
       "      <td>Sunghursh</td>\n",
       "      <td>2013</td>\n",
       "      <td>175.00</td>\n",
       "      <td>Action,Crime,Drama</td>\n",
       "    </tr>\n",
       "    <tr>\n",
       "      <th>1</th>\n",
       "      <td>tt0066787</td>\n",
       "      <td>One Day Before the Rainy Season</td>\n",
       "      <td>Ashad Ka Ek Din</td>\n",
       "      <td>2019</td>\n",
       "      <td>114.00</td>\n",
       "      <td>Biography,Drama</td>\n",
       "    </tr>\n",
       "    <tr>\n",
       "      <th>2</th>\n",
       "      <td>tt0069049</td>\n",
       "      <td>The Other Side of the Wind</td>\n",
       "      <td>The Other Side of the Wind</td>\n",
       "      <td>2018</td>\n",
       "      <td>122.00</td>\n",
       "      <td>Drama</td>\n",
       "    </tr>\n",
       "    <tr>\n",
       "      <th>3</th>\n",
       "      <td>tt0069204</td>\n",
       "      <td>Sabse Bada Sukh</td>\n",
       "      <td>Sabse Bada Sukh</td>\n",
       "      <td>2018</td>\n",
       "      <td>nan</td>\n",
       "      <td>Comedy,Drama</td>\n",
       "    </tr>\n",
       "    <tr>\n",
       "      <th>4</th>\n",
       "      <td>tt0100275</td>\n",
       "      <td>The Wandering Soap Opera</td>\n",
       "      <td>La Telenovela Errante</td>\n",
       "      <td>2017</td>\n",
       "      <td>80.00</td>\n",
       "      <td>Comedy,Drama,Fantasy</td>\n",
       "    </tr>\n",
       "  </tbody>\n",
       "</table>\n",
       "</div>"
      ],
      "text/plain": [
       "      tconst                    primary_title              original_title  \\\n",
       "0  tt0063540                        Sunghursh                   Sunghursh   \n",
       "1  tt0066787  One Day Before the Rainy Season             Ashad Ka Ek Din   \n",
       "2  tt0069049       The Other Side of the Wind  The Other Side of the Wind   \n",
       "3  tt0069204                  Sabse Bada Sukh             Sabse Bada Sukh   \n",
       "4  tt0100275         The Wandering Soap Opera       La Telenovela Errante   \n",
       "\n",
       "   start_year  runtime_minutes                genres  \n",
       "0        2013           175.00    Action,Crime,Drama  \n",
       "1        2019           114.00       Biography,Drama  \n",
       "2        2018           122.00                 Drama  \n",
       "3        2018              nan          Comedy,Drama  \n",
       "4        2017            80.00  Comedy,Drama,Fantasy  "
      ]
     },
     "execution_count": 288,
     "metadata": {},
     "output_type": "execute_result"
    }
   ],
   "source": [
    "df4.head()"
   ]
  },
  {
   "cell_type": "code",
   "execution_count": 328,
   "metadata": {},
   "outputs": [
    {
     "name": "stdout",
     "output_type": "stream",
     "text": [
      "           tconst                                      primary_title  \\\n",
      "0       tt0063540                                          Sunghursh   \n",
      "1       tt0063540                                          Sunghursh   \n",
      "2       tt0063540                                          Sunghursh   \n",
      "3       tt0066787                    One Day Before the Rainy Season   \n",
      "4       tt0066787                    One Day Before the Rainy Season   \n",
      "...           ...                                                ...   \n",
      "193726  tt9916170                                      The Rehearsal   \n",
      "193727  tt9916186  Illenau - die Geschichte einer ehemaligen Heil...   \n",
      "193728  tt9916190                                          Safeguard   \n",
      "193729  tt9916190                                          Safeguard   \n",
      "193730  tt9916538                                Kuambil Lagi Hatiku   \n",
      "\n",
      "                                           original_title  start_year  \\\n",
      "0                                               Sunghursh        2013   \n",
      "1                                               Sunghursh        2013   \n",
      "2                                               Sunghursh        2013   \n",
      "3                                         Ashad Ka Ek Din        2019   \n",
      "4                                         Ashad Ka Ek Din        2019   \n",
      "...                                                   ...         ...   \n",
      "193726                                           O Ensaio        2019   \n",
      "193727  Illenau - die Geschichte einer ehemaligen Heil...        2017   \n",
      "193728                                          Safeguard        2019   \n",
      "193729                                          Safeguard        2019   \n",
      "193730                                Kuambil Lagi Hatiku        2019   \n",
      "\n",
      "        runtime_minutes       genres  \n",
      "0                175.00       Action  \n",
      "1                175.00        Crime  \n",
      "2                175.00        Drama  \n",
      "3                114.00    Biography  \n",
      "4                114.00        Drama  \n",
      "...                 ...          ...  \n",
      "193726            51.00        Drama  \n",
      "193727            84.00  Documentary  \n",
      "193728            90.00        Drama  \n",
      "193729            90.00     Thriller  \n",
      "193730           123.00        Drama  \n",
      "\n",
      "[193731 rows x 6 columns]\n"
     ]
    },
    {
     "data": {
      "text/html": [
       "<div>\n",
       "<style scoped>\n",
       "    .dataframe tbody tr th:only-of-type {\n",
       "        vertical-align: middle;\n",
       "    }\n",
       "\n",
       "    .dataframe tbody tr th {\n",
       "        vertical-align: top;\n",
       "    }\n",
       "\n",
       "    .dataframe thead th {\n",
       "        text-align: right;\n",
       "    }\n",
       "</style>\n",
       "<table border=\"1\" class=\"dataframe\">\n",
       "  <thead>\n",
       "    <tr style=\"text-align: right;\">\n",
       "      <th></th>\n",
       "      <th>tconst</th>\n",
       "      <th>primary_title</th>\n",
       "      <th>original_title</th>\n",
       "      <th>start_year</th>\n",
       "      <th>runtime_minutes</th>\n",
       "      <th>genres</th>\n",
       "    </tr>\n",
       "  </thead>\n",
       "  <tbody>\n",
       "    <tr>\n",
       "      <th>0</th>\n",
       "      <td>tt0063540</td>\n",
       "      <td>Sunghursh</td>\n",
       "      <td>Sunghursh</td>\n",
       "      <td>2013</td>\n",
       "      <td>175.00</td>\n",
       "      <td>Action</td>\n",
       "    </tr>\n",
       "    <tr>\n",
       "      <th>1</th>\n",
       "      <td>tt0063540</td>\n",
       "      <td>Sunghursh</td>\n",
       "      <td>Sunghursh</td>\n",
       "      <td>2013</td>\n",
       "      <td>175.00</td>\n",
       "      <td>Crime</td>\n",
       "    </tr>\n",
       "    <tr>\n",
       "      <th>2</th>\n",
       "      <td>tt0063540</td>\n",
       "      <td>Sunghursh</td>\n",
       "      <td>Sunghursh</td>\n",
       "      <td>2013</td>\n",
       "      <td>175.00</td>\n",
       "      <td>Drama</td>\n",
       "    </tr>\n",
       "    <tr>\n",
       "      <th>3</th>\n",
       "      <td>tt0066787</td>\n",
       "      <td>One Day Before the Rainy Season</td>\n",
       "      <td>Ashad Ka Ek Din</td>\n",
       "      <td>2019</td>\n",
       "      <td>114.00</td>\n",
       "      <td>Biography</td>\n",
       "    </tr>\n",
       "    <tr>\n",
       "      <th>4</th>\n",
       "      <td>tt0066787</td>\n",
       "      <td>One Day Before the Rainy Season</td>\n",
       "      <td>Ashad Ka Ek Din</td>\n",
       "      <td>2019</td>\n",
       "      <td>114.00</td>\n",
       "      <td>Drama</td>\n",
       "    </tr>\n",
       "  </tbody>\n",
       "</table>\n",
       "</div>"
      ],
      "text/plain": [
       "      tconst                    primary_title   original_title  start_year  \\\n",
       "0  tt0063540                        Sunghursh        Sunghursh        2013   \n",
       "1  tt0063540                        Sunghursh        Sunghursh        2013   \n",
       "2  tt0063540                        Sunghursh        Sunghursh        2013   \n",
       "3  tt0066787  One Day Before the Rainy Season  Ashad Ka Ek Din        2019   \n",
       "4  tt0066787  One Day Before the Rainy Season  Ashad Ka Ek Din        2019   \n",
       "\n",
       "   runtime_minutes     genres  \n",
       "0           175.00     Action  \n",
       "1           175.00      Crime  \n",
       "2           175.00      Drama  \n",
       "3           114.00  Biography  \n",
       "4           114.00      Drama  "
      ]
     },
     "execution_count": 328,
     "metadata": {},
     "output_type": "execute_result"
    }
   ],
   "source": [
    "df4=pd.read_csv('zippedData/imdb.title.basics.csv.gz')\n",
    "\n",
    "# Split the 'genres' column by comma into separate genre columns\n",
    "df4['genres'] = df4['genres'].str.split(',')\n",
    "\n",
    "# Explode the 'genres' column to create multiple rows for each genre\n",
    "new_df = df4.explode('genres')\n",
    "\n",
    "# Reset the index of the new DataFrame\n",
    "new_df.reset_index(drop=True, inplace=True)\n",
    "\n",
    "# Remove rows with NaN values from the DataFrame\n",
    "new_df = new_df.dropna()\n",
    "\n",
    "# Reset the index of the new DataFrame\n",
    "new_df.reset_index(drop=True, inplace=True)\n",
    "\n",
    "\n",
    "# Display the new DataFrame\n",
    "print(new_df)\n",
    "new_df.head()"
   ]
  },
  {
   "cell_type": "code",
   "execution_count": 329,
   "metadata": {},
   "outputs": [
    {
     "data": {
      "text/plain": [
       "True"
      ]
     },
     "execution_count": 329,
     "metadata": {},
     "output_type": "execute_result"
    }
   ],
   "source": [
    "df4.isnull().values.any()"
   ]
  },
  {
   "cell_type": "code",
   "execution_count": 330,
   "metadata": {
    "scrolled": true
   },
   "outputs": [
    {
     "data": {
      "text/html": [
       "<div>\n",
       "<style scoped>\n",
       "    .dataframe tbody tr th:only-of-type {\n",
       "        vertical-align: middle;\n",
       "    }\n",
       "\n",
       "    .dataframe tbody tr th {\n",
       "        vertical-align: top;\n",
       "    }\n",
       "\n",
       "    .dataframe thead th {\n",
       "        text-align: right;\n",
       "    }\n",
       "</style>\n",
       "<table border=\"1\" class=\"dataframe\">\n",
       "  <thead>\n",
       "    <tr style=\"text-align: right;\">\n",
       "      <th></th>\n",
       "      <th>tconst</th>\n",
       "      <th>primary_title</th>\n",
       "      <th>original_title</th>\n",
       "      <th>start_year</th>\n",
       "      <th>runtime_minutes</th>\n",
       "      <th>genres</th>\n",
       "    </tr>\n",
       "  </thead>\n",
       "  <tbody>\n",
       "    <tr>\n",
       "      <th>0</th>\n",
       "      <td>False</td>\n",
       "      <td>False</td>\n",
       "      <td>False</td>\n",
       "      <td>False</td>\n",
       "      <td>False</td>\n",
       "      <td>False</td>\n",
       "    </tr>\n",
       "    <tr>\n",
       "      <th>1</th>\n",
       "      <td>False</td>\n",
       "      <td>False</td>\n",
       "      <td>False</td>\n",
       "      <td>False</td>\n",
       "      <td>False</td>\n",
       "      <td>False</td>\n",
       "    </tr>\n",
       "    <tr>\n",
       "      <th>2</th>\n",
       "      <td>False</td>\n",
       "      <td>False</td>\n",
       "      <td>False</td>\n",
       "      <td>False</td>\n",
       "      <td>False</td>\n",
       "      <td>False</td>\n",
       "    </tr>\n",
       "    <tr>\n",
       "      <th>3</th>\n",
       "      <td>False</td>\n",
       "      <td>False</td>\n",
       "      <td>False</td>\n",
       "      <td>False</td>\n",
       "      <td>True</td>\n",
       "      <td>False</td>\n",
       "    </tr>\n",
       "    <tr>\n",
       "      <th>4</th>\n",
       "      <td>False</td>\n",
       "      <td>False</td>\n",
       "      <td>False</td>\n",
       "      <td>False</td>\n",
       "      <td>False</td>\n",
       "      <td>False</td>\n",
       "    </tr>\n",
       "    <tr>\n",
       "      <th>...</th>\n",
       "      <td>...</td>\n",
       "      <td>...</td>\n",
       "      <td>...</td>\n",
       "      <td>...</td>\n",
       "      <td>...</td>\n",
       "      <td>...</td>\n",
       "    </tr>\n",
       "    <tr>\n",
       "      <th>146139</th>\n",
       "      <td>False</td>\n",
       "      <td>False</td>\n",
       "      <td>False</td>\n",
       "      <td>False</td>\n",
       "      <td>False</td>\n",
       "      <td>False</td>\n",
       "    </tr>\n",
       "    <tr>\n",
       "      <th>146140</th>\n",
       "      <td>False</td>\n",
       "      <td>False</td>\n",
       "      <td>False</td>\n",
       "      <td>False</td>\n",
       "      <td>True</td>\n",
       "      <td>False</td>\n",
       "    </tr>\n",
       "    <tr>\n",
       "      <th>146141</th>\n",
       "      <td>False</td>\n",
       "      <td>False</td>\n",
       "      <td>False</td>\n",
       "      <td>False</td>\n",
       "      <td>True</td>\n",
       "      <td>False</td>\n",
       "    </tr>\n",
       "    <tr>\n",
       "      <th>146142</th>\n",
       "      <td>False</td>\n",
       "      <td>False</td>\n",
       "      <td>False</td>\n",
       "      <td>False</td>\n",
       "      <td>False</td>\n",
       "      <td>True</td>\n",
       "    </tr>\n",
       "    <tr>\n",
       "      <th>146143</th>\n",
       "      <td>False</td>\n",
       "      <td>False</td>\n",
       "      <td>False</td>\n",
       "      <td>False</td>\n",
       "      <td>True</td>\n",
       "      <td>False</td>\n",
       "    </tr>\n",
       "  </tbody>\n",
       "</table>\n",
       "<p>146144 rows × 6 columns</p>\n",
       "</div>"
      ],
      "text/plain": [
       "        tconst  primary_title  original_title  start_year  runtime_minutes  \\\n",
       "0        False          False           False       False            False   \n",
       "1        False          False           False       False            False   \n",
       "2        False          False           False       False            False   \n",
       "3        False          False           False       False             True   \n",
       "4        False          False           False       False            False   \n",
       "...        ...            ...             ...         ...              ...   \n",
       "146139   False          False           False       False            False   \n",
       "146140   False          False           False       False             True   \n",
       "146141   False          False           False       False             True   \n",
       "146142   False          False           False       False            False   \n",
       "146143   False          False           False       False             True   \n",
       "\n",
       "        genres  \n",
       "0        False  \n",
       "1        False  \n",
       "2        False  \n",
       "3        False  \n",
       "4        False  \n",
       "...        ...  \n",
       "146139   False  \n",
       "146140   False  \n",
       "146141   False  \n",
       "146142    True  \n",
       "146143   False  \n",
       "\n",
       "[146144 rows x 6 columns]"
      ]
     },
     "execution_count": 330,
     "metadata": {},
     "output_type": "execute_result"
    }
   ],
   "source": [
    "df4.isnull()"
   ]
  },
  {
   "cell_type": "code",
   "execution_count": 331,
   "metadata": {},
   "outputs": [
    {
     "data": {
      "text/plain": [
       "tconst             0.00\n",
       "primary_title      0.00\n",
       "original_title     0.01\n",
       "start_year         0.00\n",
       "runtime_minutes   21.72\n",
       "genres             3.70\n",
       "dtype: float64"
      ]
     },
     "execution_count": 331,
     "metadata": {},
     "output_type": "execute_result"
    }
   ],
   "source": [
    "per_missing=df4.isnull().sum()*100/len(df4)\n",
    "per_missing"
   ]
  },
  {
   "cell_type": "code",
   "execution_count": 332,
   "metadata": {},
   "outputs": [
    {
     "data": {
      "text/html": [
       "<div>\n",
       "<style scoped>\n",
       "    .dataframe tbody tr th:only-of-type {\n",
       "        vertical-align: middle;\n",
       "    }\n",
       "\n",
       "    .dataframe tbody tr th {\n",
       "        vertical-align: top;\n",
       "    }\n",
       "\n",
       "    .dataframe thead th {\n",
       "        text-align: right;\n",
       "    }\n",
       "</style>\n",
       "<table border=\"1\" class=\"dataframe\">\n",
       "  <thead>\n",
       "    <tr style=\"text-align: right;\">\n",
       "      <th></th>\n",
       "      <th>tconst</th>\n",
       "      <th>primary_title</th>\n",
       "      <th>original_title</th>\n",
       "      <th>start_year</th>\n",
       "      <th>runtime_minutes</th>\n",
       "      <th>genres</th>\n",
       "    </tr>\n",
       "  </thead>\n",
       "  <tbody>\n",
       "    <tr>\n",
       "      <th>0</th>\n",
       "      <td>tt0063540</td>\n",
       "      <td>Sunghursh</td>\n",
       "      <td>Sunghursh</td>\n",
       "      <td>2013</td>\n",
       "      <td>175.00</td>\n",
       "      <td>[Action, Crime, Drama]</td>\n",
       "    </tr>\n",
       "    <tr>\n",
       "      <th>1</th>\n",
       "      <td>tt0066787</td>\n",
       "      <td>One Day Before the Rainy Season</td>\n",
       "      <td>Ashad Ka Ek Din</td>\n",
       "      <td>2019</td>\n",
       "      <td>114.00</td>\n",
       "      <td>[Biography, Drama]</td>\n",
       "    </tr>\n",
       "    <tr>\n",
       "      <th>2</th>\n",
       "      <td>tt0069049</td>\n",
       "      <td>The Other Side of the Wind</td>\n",
       "      <td>The Other Side of the Wind</td>\n",
       "      <td>2018</td>\n",
       "      <td>122.00</td>\n",
       "      <td>[Drama]</td>\n",
       "    </tr>\n",
       "    <tr>\n",
       "      <th>4</th>\n",
       "      <td>tt0100275</td>\n",
       "      <td>The Wandering Soap Opera</td>\n",
       "      <td>La Telenovela Errante</td>\n",
       "      <td>2017</td>\n",
       "      <td>80.00</td>\n",
       "      <td>[Comedy, Drama, Fantasy]</td>\n",
       "    </tr>\n",
       "    <tr>\n",
       "      <th>5</th>\n",
       "      <td>tt0111414</td>\n",
       "      <td>A Thin Life</td>\n",
       "      <td>A Thin Life</td>\n",
       "      <td>2018</td>\n",
       "      <td>75.00</td>\n",
       "      <td>[Comedy]</td>\n",
       "    </tr>\n",
       "    <tr>\n",
       "      <th>...</th>\n",
       "      <td>...</td>\n",
       "      <td>...</td>\n",
       "      <td>...</td>\n",
       "      <td>...</td>\n",
       "      <td>...</td>\n",
       "      <td>...</td>\n",
       "    </tr>\n",
       "    <tr>\n",
       "      <th>146134</th>\n",
       "      <td>tt9916160</td>\n",
       "      <td>Drømmeland</td>\n",
       "      <td>Drømmeland</td>\n",
       "      <td>2019</td>\n",
       "      <td>72.00</td>\n",
       "      <td>[Documentary]</td>\n",
       "    </tr>\n",
       "    <tr>\n",
       "      <th>146135</th>\n",
       "      <td>tt9916170</td>\n",
       "      <td>The Rehearsal</td>\n",
       "      <td>O Ensaio</td>\n",
       "      <td>2019</td>\n",
       "      <td>51.00</td>\n",
       "      <td>[Drama]</td>\n",
       "    </tr>\n",
       "    <tr>\n",
       "      <th>146136</th>\n",
       "      <td>tt9916186</td>\n",
       "      <td>Illenau - die Geschichte einer ehemaligen Heil...</td>\n",
       "      <td>Illenau - die Geschichte einer ehemaligen Heil...</td>\n",
       "      <td>2017</td>\n",
       "      <td>84.00</td>\n",
       "      <td>[Documentary]</td>\n",
       "    </tr>\n",
       "    <tr>\n",
       "      <th>146137</th>\n",
       "      <td>tt9916190</td>\n",
       "      <td>Safeguard</td>\n",
       "      <td>Safeguard</td>\n",
       "      <td>2019</td>\n",
       "      <td>90.00</td>\n",
       "      <td>[Drama, Thriller]</td>\n",
       "    </tr>\n",
       "    <tr>\n",
       "      <th>146139</th>\n",
       "      <td>tt9916538</td>\n",
       "      <td>Kuambil Lagi Hatiku</td>\n",
       "      <td>Kuambil Lagi Hatiku</td>\n",
       "      <td>2019</td>\n",
       "      <td>123.00</td>\n",
       "      <td>[Drama]</td>\n",
       "    </tr>\n",
       "  </tbody>\n",
       "</table>\n",
       "<p>112232 rows × 6 columns</p>\n",
       "</div>"
      ],
      "text/plain": [
       "           tconst                                      primary_title  \\\n",
       "0       tt0063540                                          Sunghursh   \n",
       "1       tt0066787                    One Day Before the Rainy Season   \n",
       "2       tt0069049                         The Other Side of the Wind   \n",
       "4       tt0100275                           The Wandering Soap Opera   \n",
       "5       tt0111414                                        A Thin Life   \n",
       "...           ...                                                ...   \n",
       "146134  tt9916160                                         Drømmeland   \n",
       "146135  tt9916170                                      The Rehearsal   \n",
       "146136  tt9916186  Illenau - die Geschichte einer ehemaligen Heil...   \n",
       "146137  tt9916190                                          Safeguard   \n",
       "146139  tt9916538                                Kuambil Lagi Hatiku   \n",
       "\n",
       "                                           original_title  start_year  \\\n",
       "0                                               Sunghursh        2013   \n",
       "1                                         Ashad Ka Ek Din        2019   \n",
       "2                              The Other Side of the Wind        2018   \n",
       "4                                   La Telenovela Errante        2017   \n",
       "5                                             A Thin Life        2018   \n",
       "...                                                   ...         ...   \n",
       "146134                                         Drømmeland        2019   \n",
       "146135                                           O Ensaio        2019   \n",
       "146136  Illenau - die Geschichte einer ehemaligen Heil...        2017   \n",
       "146137                                          Safeguard        2019   \n",
       "146139                                Kuambil Lagi Hatiku        2019   \n",
       "\n",
       "        runtime_minutes                    genres  \n",
       "0                175.00    [Action, Crime, Drama]  \n",
       "1                114.00        [Biography, Drama]  \n",
       "2                122.00                   [Drama]  \n",
       "4                 80.00  [Comedy, Drama, Fantasy]  \n",
       "5                 75.00                  [Comedy]  \n",
       "...                 ...                       ...  \n",
       "146134            72.00             [Documentary]  \n",
       "146135            51.00                   [Drama]  \n",
       "146136            84.00             [Documentary]  \n",
       "146137            90.00         [Drama, Thriller]  \n",
       "146139           123.00                   [Drama]  \n",
       "\n",
       "[112232 rows x 6 columns]"
      ]
     },
     "execution_count": 332,
     "metadata": {},
     "output_type": "execute_result"
    }
   ],
   "source": [
    "df4.dropna(axis=0)\n",
    "df4.isnull()\n",
    "df4.dropna()"
   ]
  },
  {
   "cell_type": "code",
   "execution_count": 333,
   "metadata": {},
   "outputs": [
    {
     "name": "stdout",
     "output_type": "stream",
     "text": [
      "<class 'pandas.core.frame.DataFrame'>\n",
      "RangeIndex: 146144 entries, 0 to 146143\n",
      "Data columns (total 6 columns):\n",
      " #   Column           Non-Null Count   Dtype  \n",
      "---  ------           --------------   -----  \n",
      " 0   tconst           146144 non-null  object \n",
      " 1   primary_title    146144 non-null  object \n",
      " 2   original_title   146123 non-null  object \n",
      " 3   start_year       146144 non-null  int64  \n",
      " 4   runtime_minutes  114405 non-null  float64\n",
      " 5   genres           140736 non-null  object \n",
      "dtypes: float64(1), int64(1), object(4)\n",
      "memory usage: 6.7+ MB\n"
     ]
    }
   ],
   "source": [
    "df4.info()"
   ]
  },
  {
   "cell_type": "code",
   "execution_count": 334,
   "metadata": {},
   "outputs": [],
   "source": [
    "df5=pd.read_csv('zippedData/imdb.title.crew.csv.gz')"
   ]
  },
  {
   "cell_type": "code",
   "execution_count": 335,
   "metadata": {},
   "outputs": [
    {
     "name": "stdout",
     "output_type": "stream",
     "text": [
      "Series([], Name: genres, dtype: object)\n"
     ]
    }
   ],
   "source": [
    "title = \"Marvel's The Avengers\"\n",
    "\n",
    "# Filter rows based on the movie title\n",
    "movie_row = df4[df4['original_title'] == title]\n",
    "\n",
    "# Extract the genres for the specific movie\n",
    "genres_for_movie = movie_row['genres']\n",
    "\n",
    "# Display the genres\n",
    "print(genres_for_movie)"
   ]
  },
  {
   "cell_type": "code",
   "execution_count": 336,
   "metadata": {},
   "outputs": [],
   "source": [
    "df6=pd.read_csv('zippedData/imdb.title.principals.csv.gz')"
   ]
  },
  {
   "cell_type": "code",
   "execution_count": 337,
   "metadata": {},
   "outputs": [],
   "source": [
    "#df7=pd.read_csv('zippedData/imdb.title.ratings.csv.gz',dtype=str)\n",
    "df7=pd.read_csv('zippedData/imdb.title.ratings.csv.gz')"
   ]
  },
  {
   "cell_type": "code",
   "execution_count": 338,
   "metadata": {},
   "outputs": [
    {
     "data": {
      "text/html": [
       "<div>\n",
       "<style scoped>\n",
       "    .dataframe tbody tr th:only-of-type {\n",
       "        vertical-align: middle;\n",
       "    }\n",
       "\n",
       "    .dataframe tbody tr th {\n",
       "        vertical-align: top;\n",
       "    }\n",
       "\n",
       "    .dataframe thead th {\n",
       "        text-align: right;\n",
       "    }\n",
       "</style>\n",
       "<table border=\"1\" class=\"dataframe\">\n",
       "  <thead>\n",
       "    <tr style=\"text-align: right;\">\n",
       "      <th></th>\n",
       "      <th>tconst</th>\n",
       "      <th>averagerating</th>\n",
       "      <th>numvotes</th>\n",
       "    </tr>\n",
       "  </thead>\n",
       "  <tbody>\n",
       "    <tr>\n",
       "      <th>0</th>\n",
       "      <td>tt10356526</td>\n",
       "      <td>8.30</td>\n",
       "      <td>31</td>\n",
       "    </tr>\n",
       "    <tr>\n",
       "      <th>1</th>\n",
       "      <td>tt10384606</td>\n",
       "      <td>8.90</td>\n",
       "      <td>559</td>\n",
       "    </tr>\n",
       "    <tr>\n",
       "      <th>2</th>\n",
       "      <td>tt1042974</td>\n",
       "      <td>6.40</td>\n",
       "      <td>20</td>\n",
       "    </tr>\n",
       "    <tr>\n",
       "      <th>3</th>\n",
       "      <td>tt1043726</td>\n",
       "      <td>4.20</td>\n",
       "      <td>50352</td>\n",
       "    </tr>\n",
       "    <tr>\n",
       "      <th>4</th>\n",
       "      <td>tt1060240</td>\n",
       "      <td>6.50</td>\n",
       "      <td>21</td>\n",
       "    </tr>\n",
       "  </tbody>\n",
       "</table>\n",
       "</div>"
      ],
      "text/plain": [
       "       tconst  averagerating  numvotes\n",
       "0  tt10356526           8.30        31\n",
       "1  tt10384606           8.90       559\n",
       "2   tt1042974           6.40        20\n",
       "3   tt1043726           4.20     50352\n",
       "4   tt1060240           6.50        21"
      ]
     },
     "execution_count": 338,
     "metadata": {},
     "output_type": "execute_result"
    }
   ],
   "source": [
    "df7.head()"
   ]
  },
  {
   "cell_type": "code",
   "execution_count": 339,
   "metadata": {},
   "outputs": [],
   "source": [
    "df8=pd.read_csv('zippedData/tmdb.movies.csv.gz')"
   ]
  },
  {
   "cell_type": "code",
   "execution_count": 340,
   "metadata": {},
   "outputs": [],
   "source": [
    "df9=pd.read_csv('zippedData/tn.movie_budgets.csv.gz')"
   ]
  },
  {
   "cell_type": "code",
   "execution_count": 341,
   "metadata": {},
   "outputs": [
    {
     "data": {
      "text/plain": [
       "7.00     2262\n",
       "6.60     2251\n",
       "7.20     2249\n",
       "6.80     2239\n",
       "6.50     2221\n",
       "         ... \n",
       "9.60       18\n",
       "10.00      16\n",
       "9.80       15\n",
       "9.70       12\n",
       "9.90        5\n",
       "Name: averagerating, Length: 91, dtype: int64"
      ]
     },
     "execution_count": 341,
     "metadata": {},
     "output_type": "execute_result"
    }
   ],
   "source": [
    "df7['averagerating'].value_counts()"
   ]
  },
  {
   "cell_type": "code",
   "execution_count": 342,
   "metadata": {},
   "outputs": [],
   "source": [
    "#merge 2 dataset new df4(imdb.title.basics with splited genres) and df7(imdb.title.ratings)\n",
    "inner_merge=pd.merge(new_df,df7,on='tconst')"
   ]
  },
  {
   "cell_type": "code",
   "execution_count": 343,
   "metadata": {},
   "outputs": [
    {
     "data": {
      "text/html": [
       "<div>\n",
       "<style scoped>\n",
       "    .dataframe tbody tr th:only-of-type {\n",
       "        vertical-align: middle;\n",
       "    }\n",
       "\n",
       "    .dataframe tbody tr th {\n",
       "        vertical-align: top;\n",
       "    }\n",
       "\n",
       "    .dataframe thead th {\n",
       "        text-align: right;\n",
       "    }\n",
       "</style>\n",
       "<table border=\"1\" class=\"dataframe\">\n",
       "  <thead>\n",
       "    <tr style=\"text-align: right;\">\n",
       "      <th></th>\n",
       "      <th>tconst</th>\n",
       "      <th>primary_title</th>\n",
       "      <th>original_title</th>\n",
       "      <th>start_year</th>\n",
       "      <th>runtime_minutes</th>\n",
       "      <th>genres</th>\n",
       "      <th>averagerating</th>\n",
       "      <th>numvotes</th>\n",
       "    </tr>\n",
       "  </thead>\n",
       "  <tbody>\n",
       "    <tr>\n",
       "      <th>0</th>\n",
       "      <td>tt0063540</td>\n",
       "      <td>Sunghursh</td>\n",
       "      <td>Sunghursh</td>\n",
       "      <td>2013</td>\n",
       "      <td>175.00</td>\n",
       "      <td>Action</td>\n",
       "      <td>7.00</td>\n",
       "      <td>77</td>\n",
       "    </tr>\n",
       "    <tr>\n",
       "      <th>1</th>\n",
       "      <td>tt0063540</td>\n",
       "      <td>Sunghursh</td>\n",
       "      <td>Sunghursh</td>\n",
       "      <td>2013</td>\n",
       "      <td>175.00</td>\n",
       "      <td>Crime</td>\n",
       "      <td>7.00</td>\n",
       "      <td>77</td>\n",
       "    </tr>\n",
       "    <tr>\n",
       "      <th>2</th>\n",
       "      <td>tt0063540</td>\n",
       "      <td>Sunghursh</td>\n",
       "      <td>Sunghursh</td>\n",
       "      <td>2013</td>\n",
       "      <td>175.00</td>\n",
       "      <td>Drama</td>\n",
       "      <td>7.00</td>\n",
       "      <td>77</td>\n",
       "    </tr>\n",
       "    <tr>\n",
       "      <th>3</th>\n",
       "      <td>tt0066787</td>\n",
       "      <td>One Day Before the Rainy Season</td>\n",
       "      <td>Ashad Ka Ek Din</td>\n",
       "      <td>2019</td>\n",
       "      <td>114.00</td>\n",
       "      <td>Biography</td>\n",
       "      <td>7.20</td>\n",
       "      <td>43</td>\n",
       "    </tr>\n",
       "    <tr>\n",
       "      <th>4</th>\n",
       "      <td>tt0066787</td>\n",
       "      <td>One Day Before the Rainy Season</td>\n",
       "      <td>Ashad Ka Ek Din</td>\n",
       "      <td>2019</td>\n",
       "      <td>114.00</td>\n",
       "      <td>Drama</td>\n",
       "      <td>7.20</td>\n",
       "      <td>43</td>\n",
       "    </tr>\n",
       "    <tr>\n",
       "      <th>...</th>\n",
       "      <td>...</td>\n",
       "      <td>...</td>\n",
       "      <td>...</td>\n",
       "      <td>...</td>\n",
       "      <td>...</td>\n",
       "      <td>...</td>\n",
       "      <td>...</td>\n",
       "      <td>...</td>\n",
       "    </tr>\n",
       "    <tr>\n",
       "      <th>118432</th>\n",
       "      <td>tt9913056</td>\n",
       "      <td>Swarm Season</td>\n",
       "      <td>Swarm Season</td>\n",
       "      <td>2019</td>\n",
       "      <td>86.00</td>\n",
       "      <td>Documentary</td>\n",
       "      <td>6.20</td>\n",
       "      <td>5</td>\n",
       "    </tr>\n",
       "    <tr>\n",
       "      <th>118433</th>\n",
       "      <td>tt9913084</td>\n",
       "      <td>Diabolik sono io</td>\n",
       "      <td>Diabolik sono io</td>\n",
       "      <td>2019</td>\n",
       "      <td>75.00</td>\n",
       "      <td>Documentary</td>\n",
       "      <td>6.20</td>\n",
       "      <td>6</td>\n",
       "    </tr>\n",
       "    <tr>\n",
       "      <th>118434</th>\n",
       "      <td>tt9914286</td>\n",
       "      <td>Sokagin Çocuklari</td>\n",
       "      <td>Sokagin Çocuklari</td>\n",
       "      <td>2019</td>\n",
       "      <td>98.00</td>\n",
       "      <td>Drama</td>\n",
       "      <td>8.70</td>\n",
       "      <td>136</td>\n",
       "    </tr>\n",
       "    <tr>\n",
       "      <th>118435</th>\n",
       "      <td>tt9914286</td>\n",
       "      <td>Sokagin Çocuklari</td>\n",
       "      <td>Sokagin Çocuklari</td>\n",
       "      <td>2019</td>\n",
       "      <td>98.00</td>\n",
       "      <td>Family</td>\n",
       "      <td>8.70</td>\n",
       "      <td>136</td>\n",
       "    </tr>\n",
       "    <tr>\n",
       "      <th>118436</th>\n",
       "      <td>tt9916160</td>\n",
       "      <td>Drømmeland</td>\n",
       "      <td>Drømmeland</td>\n",
       "      <td>2019</td>\n",
       "      <td>72.00</td>\n",
       "      <td>Documentary</td>\n",
       "      <td>6.50</td>\n",
       "      <td>11</td>\n",
       "    </tr>\n",
       "  </tbody>\n",
       "</table>\n",
       "<p>118437 rows × 8 columns</p>\n",
       "</div>"
      ],
      "text/plain": [
       "           tconst                    primary_title     original_title  \\\n",
       "0       tt0063540                        Sunghursh          Sunghursh   \n",
       "1       tt0063540                        Sunghursh          Sunghursh   \n",
       "2       tt0063540                        Sunghursh          Sunghursh   \n",
       "3       tt0066787  One Day Before the Rainy Season    Ashad Ka Ek Din   \n",
       "4       tt0066787  One Day Before the Rainy Season    Ashad Ka Ek Din   \n",
       "...           ...                              ...                ...   \n",
       "118432  tt9913056                     Swarm Season       Swarm Season   \n",
       "118433  tt9913084                 Diabolik sono io   Diabolik sono io   \n",
       "118434  tt9914286                Sokagin Çocuklari  Sokagin Çocuklari   \n",
       "118435  tt9914286                Sokagin Çocuklari  Sokagin Çocuklari   \n",
       "118436  tt9916160                       Drømmeland         Drømmeland   \n",
       "\n",
       "        start_year  runtime_minutes       genres  averagerating  numvotes  \n",
       "0             2013           175.00       Action           7.00        77  \n",
       "1             2013           175.00        Crime           7.00        77  \n",
       "2             2013           175.00        Drama           7.00        77  \n",
       "3             2019           114.00    Biography           7.20        43  \n",
       "4             2019           114.00        Drama           7.20        43  \n",
       "...            ...              ...          ...            ...       ...  \n",
       "118432        2019            86.00  Documentary           6.20         5  \n",
       "118433        2019            75.00  Documentary           6.20         6  \n",
       "118434        2019            98.00        Drama           8.70       136  \n",
       "118435        2019            98.00       Family           8.70       136  \n",
       "118436        2019            72.00  Documentary           6.50        11  \n",
       "\n",
       "[118437 rows x 8 columns]"
      ]
     },
     "execution_count": 343,
     "metadata": {},
     "output_type": "execute_result"
    }
   ],
   "source": [
    "inner_merge.isnull().sum()\n",
    "inner_merge.dropna()"
   ]
  },
  {
   "cell_type": "code",
   "execution_count": 344,
   "metadata": {},
   "outputs": [
    {
     "data": {
      "text/plain": [
       "tconst             0\n",
       "primary_title      0\n",
       "original_title     0\n",
       "start_year         0\n",
       "runtime_minutes    0\n",
       "genres             0\n",
       "averagerating      0\n",
       "numvotes           0\n",
       "dtype: int64"
      ]
     },
     "execution_count": 344,
     "metadata": {},
     "output_type": "execute_result"
    }
   ],
   "source": [
    "inner_merge.isnull().sum()"
   ]
  },
  {
   "cell_type": "code",
   "execution_count": 345,
   "metadata": {
    "scrolled": true
   },
   "outputs": [
    {
     "name": "stdout",
     "output_type": "stream",
     "text": [
      "<class 'pandas.core.frame.DataFrame'>\n",
      "Int64Index: 118437 entries, 0 to 118436\n",
      "Data columns (total 8 columns):\n",
      " #   Column           Non-Null Count   Dtype  \n",
      "---  ------           --------------   -----  \n",
      " 0   tconst           118437 non-null  object \n",
      " 1   primary_title    118437 non-null  object \n",
      " 2   original_title   118437 non-null  object \n",
      " 3   start_year       118437 non-null  int64  \n",
      " 4   runtime_minutes  118437 non-null  float64\n",
      " 5   genres           118437 non-null  object \n",
      " 6   averagerating    118437 non-null  float64\n",
      " 7   numvotes         118437 non-null  int64  \n",
      "dtypes: float64(2), int64(2), object(4)\n",
      "memory usage: 8.1+ MB\n"
     ]
    }
   ],
   "source": [
    "inner_merge.info()"
   ]
  },
  {
   "cell_type": "code",
   "execution_count": 346,
   "metadata": {},
   "outputs": [
    {
     "data": {
      "text/plain": [
       "Text(0, 0.5, 'Average Rating')"
      ]
     },
     "execution_count": 346,
     "metadata": {},
     "output_type": "execute_result"
    },
    {
     "data": {
      "image/png": "[encoded data removed]",
      "text/plain": [
       "<Figure size 864x432 with 1 Axes>"
      ]
     },
     "metadata": {
      "needs_background": "light"
     },
     "output_type": "display_data"
    }
   ],
   "source": [
    "inner_merge['averagerating'] = pd.to_numeric(inner_merge['averagerating'], errors='coerce')\n",
    "mean_df = inner_merge.groupby('genres')['averagerating'].mean().reset_index().sort_values(by='averagerating', ascending=False)\n",
    "top10_rating = mean_df.nlargest(20, 'averagerating')\n",
    "plt.figure(figsize=(12, 6))\n",
    "sns.barplot(x='genres', y='averagerating', data=top10_rating,hue='averagerating',dodge=False)\n",
    "plt.legend(bbox_to_anchor=(1.05,1),loc=2)\n",
    "plt.title('Top 20 Rated Genres')\n",
    "plt.xlabel('Genres')\n",
    "plt.xticks(rotation=45, ha=\"right\")\n",
    "plt.ylabel('Average Rating')"
   ]
  },
  {
   "cell_type": "code",
   "execution_count": 347,
   "metadata": {},
   "outputs": [
    {
     "data": {
      "image/png": "[encoded data removed]",
      "text/plain": [
       "<Figure size 864x432 with 1 Axes>"
      ]
     },
     "metadata": {
      "needs_background": "light"
     },
     "output_type": "display_data"
    }
   ],
   "source": [
    "#inner_merge['averagerating'] = pd.to_numeric(inner_merge['averagerating'], errors='coerce')\n",
    "\n",
    "# Set up the plot\n",
    "plt.figure(figsize=(12, 6))\n",
    "plt.bar(mean_df['genres'][:30],mean_df['averagerating'][:30], color='skyblue')\n",
    "#plt.bar(inner_merge['average_rating'][:100], inner_merge['count'][:100], color='skyblue')\n",
    "plt.xlabel('Genres')\n",
    "plt.ylabel('Average Rating')\n",
    "plt.title('Top 10 Genres by Average Rating')\n",
    "plt.xticks(rotation=45, ha=\"right\")\n",
    "\n",
    "plt.show()"
   ]
  },
  {
   "cell_type": "code",
   "execution_count": 348,
   "metadata": {},
   "outputs": [],
   "source": [
    "df1.head()\n",
    "df1['foreign_gross'] = df1['foreign_gross'].astype(str)\n",
    "df1['foreign_gross'] = df1['foreign_gross'].str.replace(',', '').astype(float)"
   ]
  },
  {
   "cell_type": "code",
   "execution_count": 349,
   "metadata": {},
   "outputs": [
    {
     "data": {
      "text/plain": [
       "727        Marvel's The Avengers\n",
       "1875     Avengers: Age of Ultron\n",
       "3080               Black Panther\n",
       "2758    Star Wars: The Last Jedi\n",
       "1127                      Frozen\n",
       "                  ...           \n",
       "2499              Queen of Katwe\n",
       "1297            The Fifth Estate\n",
       "304       Waking Sleeping Beauty\n",
       "512                         Prom\n",
       "889               People Like Us\n",
       "Name: title, Length: 106, dtype: object"
      ]
     },
     "execution_count": 349,
     "metadata": {},
     "output_type": "execute_result"
    }
   ],
   "source": [
    "bv_movies=df1[df1['studio']=='BV']\n",
    "bv_movie_titles = bv_movies['title']\n",
    "bv_movie_titles"
   ]
  },
  {
   "cell_type": "code",
   "execution_count": 350,
   "metadata": {},
   "outputs": [
    {
     "data": {
      "image/png": "[encoded data removed]",
      "text/plain": [
       "<Figure size 720x432 with 1 Axes>"
      ]
     },
     "metadata": {
      "needs_background": "light"
     },
     "output_type": "display_data"
    }
   ],
   "source": [
    "df1['total_gross'] = df1['domestic_gross'] + df1['foreign_gross']\n",
    "cleaned_df1 = df1.dropna()\n",
    "grouped_df1=cleaned_df1.groupby('studio')['total_gross'].sum().reset_index().sort_values(by='total_gross', ascending=False)\n",
    "top10_std = grouped_df1.nlargest(10, 'total_gross')\n",
    "pd.options.display.float_format = '{:.2f}'.format\n",
    "plt.figure(figsize=(10, 6))\n",
    "sns.barplot(x='studio', y='total_gross', data=top10_std,hue='total_gross',dodge=False)\n",
    "plt.legend(bbox_to_anchor=(1.05,1),loc=2)\n",
    "plt.title('Top 10 Grossing Studios')\n",
    "plt.xlabel('Studio')\n",
    "plt.ylabel('Total Gross')\n",
    "#plt.yticks(top10_std['total_gross'], ['${:,.0f}'.format(label) for label in top10_std['total_gross']])\n",
    "\n",
    "plt.show()\n"
   ]
  },
  {
   "cell_type": "code",
   "execution_count": 351,
   "metadata": {
    "scrolled": true
   },
   "outputs": [
    {
     "data": {
      "text/html": [
       "<div>\n",
       "<style scoped>\n",
       "    .dataframe tbody tr th:only-of-type {\n",
       "        vertical-align: middle;\n",
       "    }\n",
       "\n",
       "    .dataframe tbody tr th {\n",
       "        vertical-align: top;\n",
       "    }\n",
       "\n",
       "    .dataframe thead th {\n",
       "        text-align: right;\n",
       "    }\n",
       "</style>\n",
       "<table border=\"1\" class=\"dataframe\">\n",
       "  <thead>\n",
       "    <tr style=\"text-align: right;\">\n",
       "      <th></th>\n",
       "      <th>studio</th>\n",
       "      <th>total_gross</th>\n",
       "    </tr>\n",
       "  </thead>\n",
       "  <tbody>\n",
       "    <tr>\n",
       "      <th>116</th>\n",
       "      <td>P/DW</td>\n",
       "      <td>5076500000.00</td>\n",
       "    </tr>\n",
       "    <tr>\n",
       "      <th>88</th>\n",
       "      <td>LG/S</td>\n",
       "      <td>5318923998.00</td>\n",
       "    </tr>\n",
       "    <tr>\n",
       "      <th>89</th>\n",
       "      <td>LGF</td>\n",
       "      <td>8467470700.00</td>\n",
       "    </tr>\n",
       "    <tr>\n",
       "      <th>164</th>\n",
       "      <td>WB (NL)</td>\n",
       "      <td>10314099999.00</td>\n",
       "    </tr>\n",
       "    <tr>\n",
       "      <th>126</th>\n",
       "      <td>Par.</td>\n",
       "      <td>19444197697.00</td>\n",
       "    </tr>\n",
       "    <tr>\n",
       "      <th>142</th>\n",
       "      <td>Sony</td>\n",
       "      <td>22404715096.00</td>\n",
       "    </tr>\n",
       "    <tr>\n",
       "      <th>155</th>\n",
       "      <td>Uni.</td>\n",
       "      <td>29746809191.40</td>\n",
       "    </tr>\n",
       "    <tr>\n",
       "      <th>163</th>\n",
       "      <td>WB</td>\n",
       "      <td>30791502998.00</td>\n",
       "    </tr>\n",
       "    <tr>\n",
       "      <th>57</th>\n",
       "      <td>Fox</td>\n",
       "      <td>30980366596.00</td>\n",
       "    </tr>\n",
       "    <tr>\n",
       "      <th>22</th>\n",
       "      <td>BV</td>\n",
       "      <td>44190383899.10</td>\n",
       "    </tr>\n",
       "  </tbody>\n",
       "</table>\n",
       "</div>"
      ],
      "text/plain": [
       "      studio    total_gross\n",
       "116     P/DW  5076500000.00\n",
       "88      LG/S  5318923998.00\n",
       "89       LGF  8467470700.00\n",
       "164  WB (NL) 10314099999.00\n",
       "126     Par. 19444197697.00\n",
       "142     Sony 22404715096.00\n",
       "155     Uni. 29746809191.40\n",
       "163       WB 30791502998.00\n",
       "57       Fox 30980366596.00\n",
       "22        BV 44190383899.10"
      ]
     },
     "execution_count": 351,
     "metadata": {},
     "output_type": "execute_result"
    }
   ],
   "source": [
    "top10_std.sort_values(by='total_gross')"
   ]
  },
  {
   "cell_type": "code",
   "execution_count": 352,
   "metadata": {},
   "outputs": [
    {
     "data": {
      "text/html": [
       "<div>\n",
       "<style scoped>\n",
       "    .dataframe tbody tr th:only-of-type {\n",
       "        vertical-align: middle;\n",
       "    }\n",
       "\n",
       "    .dataframe tbody tr th {\n",
       "        vertical-align: top;\n",
       "    }\n",
       "\n",
       "    .dataframe thead th {\n",
       "        text-align: right;\n",
       "    }\n",
       "</style>\n",
       "<table border=\"1\" class=\"dataframe\">\n",
       "  <thead>\n",
       "    <tr style=\"text-align: right;\">\n",
       "      <th></th>\n",
       "      <th>title</th>\n",
       "      <th>studio</th>\n",
       "      <th>domestic_gross</th>\n",
       "      <th>foreign_gross</th>\n",
       "      <th>year</th>\n",
       "      <th>total_gross</th>\n",
       "    </tr>\n",
       "  </thead>\n",
       "  <tbody>\n",
       "    <tr>\n",
       "      <th>727</th>\n",
       "      <td>Marvel's The Avengers</td>\n",
       "      <td>BV</td>\n",
       "      <td>623400000.00</td>\n",
       "      <td>895500000.00</td>\n",
       "      <td>2012</td>\n",
       "      <td>1518900000.00</td>\n",
       "    </tr>\n",
       "    <tr>\n",
       "      <th>1875</th>\n",
       "      <td>Avengers: Age of Ultron</td>\n",
       "      <td>BV</td>\n",
       "      <td>459000000.00</td>\n",
       "      <td>946400000.00</td>\n",
       "      <td>2015</td>\n",
       "      <td>1405400000.00</td>\n",
       "    </tr>\n",
       "    <tr>\n",
       "      <th>3080</th>\n",
       "      <td>Black Panther</td>\n",
       "      <td>BV</td>\n",
       "      <td>700100000.00</td>\n",
       "      <td>646900000.00</td>\n",
       "      <td>2018</td>\n",
       "      <td>1347000000.00</td>\n",
       "    </tr>\n",
       "    <tr>\n",
       "      <th>328</th>\n",
       "      <td>Harry Potter and the Deathly Hallows Part 2</td>\n",
       "      <td>WB</td>\n",
       "      <td>381000000.00</td>\n",
       "      <td>960500000.00</td>\n",
       "      <td>2011</td>\n",
       "      <td>1341500000.00</td>\n",
       "    </tr>\n",
       "    <tr>\n",
       "      <th>2758</th>\n",
       "      <td>Star Wars: The Last Jedi</td>\n",
       "      <td>BV</td>\n",
       "      <td>620200000.00</td>\n",
       "      <td>712400000.00</td>\n",
       "      <td>2017</td>\n",
       "      <td>1332600000.00</td>\n",
       "    </tr>\n",
       "  </tbody>\n",
       "</table>\n",
       "</div>"
      ],
      "text/plain": [
       "                                            title studio  domestic_gross  \\\n",
       "727                         Marvel's The Avengers     BV    623400000.00   \n",
       "1875                      Avengers: Age of Ultron     BV    459000000.00   \n",
       "3080                                Black Panther     BV    700100000.00   \n",
       "328   Harry Potter and the Deathly Hallows Part 2     WB    381000000.00   \n",
       "2758                     Star Wars: The Last Jedi     BV    620200000.00   \n",
       "\n",
       "      foreign_gross  year   total_gross  \n",
       "727    895500000.00  2012 1518900000.00  \n",
       "1875   946400000.00  2015 1405400000.00  \n",
       "3080   646900000.00  2018 1347000000.00  \n",
       "328    960500000.00  2011 1341500000.00  \n",
       "2758   712400000.00  2017 1332600000.00  "
      ]
     },
     "execution_count": 352,
     "metadata": {},
     "output_type": "execute_result"
    }
   ],
   "source": [
    "df1.head()"
   ]
  },
  {
   "cell_type": "code",
   "execution_count": 353,
   "metadata": {},
   "outputs": [
    {
     "data": {
      "image/png": "[encoded data removed]",
      "text/plain": [
       "<Figure size 720x432 with 1 Axes>"
      ]
     },
     "metadata": {
      "needs_background": "light"
     },
     "output_type": "display_data"
    }
   ],
   "source": [
    "df1.sort_values(by='total_gross', ascending=False, inplace=True)\n",
    "top_10_grossed_movies = df1.head(10)\n",
    "top_10_grossed_movies\n",
    "#plt.gca().invert_yaxis()  # Invert y-axis to show the highest-grossing movie at the top\n",
    "plt.figure(figsize=(10, 6))\n",
    "sns.barplot(x='total_gross', y='title', data=top_10_grossed_movies,hue='total_gross',dodge=False)\n",
    "plt.legend(bbox_to_anchor=(1.05,1),loc=2)\n",
    "plt.title('Top 10 Highest Grossing Movies')\n",
    "plt.xlabel('Total Gross (in billions)')\n",
    "plt.ylabel('Movie Title')\n",
    "#plt.yticks(top10_std['total_gross'], ['${:,.0f}'.format(label) for label in top10_std['total_gross']])\n",
    "\n",
    "plt.show()\n"
   ]
  },
  {
   "cell_type": "code",
   "execution_count": 354,
   "metadata": {
    "scrolled": true
   },
   "outputs": [
    {
     "data": {
      "text/html": [
       "<div>\n",
       "<style scoped>\n",
       "    .dataframe tbody tr th:only-of-type {\n",
       "        vertical-align: middle;\n",
       "    }\n",
       "\n",
       "    .dataframe tbody tr th {\n",
       "        vertical-align: top;\n",
       "    }\n",
       "\n",
       "    .dataframe thead th {\n",
       "        text-align: right;\n",
       "    }\n",
       "</style>\n",
       "<table border=\"1\" class=\"dataframe\">\n",
       "  <thead>\n",
       "    <tr style=\"text-align: right;\">\n",
       "      <th></th>\n",
       "      <th>title</th>\n",
       "      <th>studio</th>\n",
       "      <th>domestic_gross</th>\n",
       "      <th>foreign_gross</th>\n",
       "      <th>year</th>\n",
       "      <th>total_gross</th>\n",
       "    </tr>\n",
       "  </thead>\n",
       "  <tbody>\n",
       "    <tr>\n",
       "      <th>727</th>\n",
       "      <td>Marvel's The Avengers</td>\n",
       "      <td>BV</td>\n",
       "      <td>623400000.00</td>\n",
       "      <td>895500000.00</td>\n",
       "      <td>2012</td>\n",
       "      <td>1518900000.00</td>\n",
       "    </tr>\n",
       "    <tr>\n",
       "      <th>1875</th>\n",
       "      <td>Avengers: Age of Ultron</td>\n",
       "      <td>BV</td>\n",
       "      <td>459000000.00</td>\n",
       "      <td>946400000.00</td>\n",
       "      <td>2015</td>\n",
       "      <td>1405400000.00</td>\n",
       "    </tr>\n",
       "    <tr>\n",
       "      <th>3080</th>\n",
       "      <td>Black Panther</td>\n",
       "      <td>BV</td>\n",
       "      <td>700100000.00</td>\n",
       "      <td>646900000.00</td>\n",
       "      <td>2018</td>\n",
       "      <td>1347000000.00</td>\n",
       "    </tr>\n",
       "    <tr>\n",
       "      <th>328</th>\n",
       "      <td>Harry Potter and the Deathly Hallows Part 2</td>\n",
       "      <td>WB</td>\n",
       "      <td>381000000.00</td>\n",
       "      <td>960500000.00</td>\n",
       "      <td>2011</td>\n",
       "      <td>1341500000.00</td>\n",
       "    </tr>\n",
       "    <tr>\n",
       "      <th>2758</th>\n",
       "      <td>Star Wars: The Last Jedi</td>\n",
       "      <td>BV</td>\n",
       "      <td>620200000.00</td>\n",
       "      <td>712400000.00</td>\n",
       "      <td>2017</td>\n",
       "      <td>1332600000.00</td>\n",
       "    </tr>\n",
       "  </tbody>\n",
       "</table>\n",
       "</div>"
      ],
      "text/plain": [
       "                                            title studio  domestic_gross  \\\n",
       "727                         Marvel's The Avengers     BV    623400000.00   \n",
       "1875                      Avengers: Age of Ultron     BV    459000000.00   \n",
       "3080                                Black Panther     BV    700100000.00   \n",
       "328   Harry Potter and the Deathly Hallows Part 2     WB    381000000.00   \n",
       "2758                     Star Wars: The Last Jedi     BV    620200000.00   \n",
       "\n",
       "      foreign_gross  year   total_gross  \n",
       "727    895500000.00  2012 1518900000.00  \n",
       "1875   946400000.00  2015 1405400000.00  \n",
       "3080   646900000.00  2018 1347000000.00  \n",
       "328    960500000.00  2011 1341500000.00  \n",
       "2758   712400000.00  2017 1332600000.00  "
      ]
     },
     "execution_count": 354,
     "metadata": {},
     "output_type": "execute_result"
    }
   ],
   "source": [
    "top_10_grossed_movies.head()"
   ]
  },
  {
   "cell_type": "code",
   "execution_count": 355,
   "metadata": {},
   "outputs": [
    {
     "data": {
      "text/html": [
       "<div>\n",
       "<style scoped>\n",
       "    .dataframe tbody tr th:only-of-type {\n",
       "        vertical-align: middle;\n",
       "    }\n",
       "\n",
       "    .dataframe tbody tr th {\n",
       "        vertical-align: top;\n",
       "    }\n",
       "\n",
       "    .dataframe thead th {\n",
       "        text-align: right;\n",
       "    }\n",
       "</style>\n",
       "<table border=\"1\" class=\"dataframe\">\n",
       "  <thead>\n",
       "    <tr style=\"text-align: right;\">\n",
       "      <th></th>\n",
       "      <th>tconst</th>\n",
       "      <th>primary_title</th>\n",
       "      <th>original_title</th>\n",
       "      <th>start_year</th>\n",
       "      <th>runtime_minutes</th>\n",
       "      <th>genres</th>\n",
       "    </tr>\n",
       "  </thead>\n",
       "  <tbody>\n",
       "    <tr>\n",
       "      <th>0</th>\n",
       "      <td>tt0063540</td>\n",
       "      <td>Sunghursh</td>\n",
       "      <td>Sunghursh</td>\n",
       "      <td>2013</td>\n",
       "      <td>175.00</td>\n",
       "      <td>[Action, Crime, Drama]</td>\n",
       "    </tr>\n",
       "    <tr>\n",
       "      <th>1</th>\n",
       "      <td>tt0066787</td>\n",
       "      <td>One Day Before the Rainy Season</td>\n",
       "      <td>Ashad Ka Ek Din</td>\n",
       "      <td>2019</td>\n",
       "      <td>114.00</td>\n",
       "      <td>[Biography, Drama]</td>\n",
       "    </tr>\n",
       "    <tr>\n",
       "      <th>2</th>\n",
       "      <td>tt0069049</td>\n",
       "      <td>The Other Side of the Wind</td>\n",
       "      <td>The Other Side of the Wind</td>\n",
       "      <td>2018</td>\n",
       "      <td>122.00</td>\n",
       "      <td>[Drama]</td>\n",
       "    </tr>\n",
       "    <tr>\n",
       "      <th>3</th>\n",
       "      <td>tt0069204</td>\n",
       "      <td>Sabse Bada Sukh</td>\n",
       "      <td>Sabse Bada Sukh</td>\n",
       "      <td>2018</td>\n",
       "      <td>nan</td>\n",
       "      <td>[Comedy, Drama]</td>\n",
       "    </tr>\n",
       "    <tr>\n",
       "      <th>4</th>\n",
       "      <td>tt0100275</td>\n",
       "      <td>The Wandering Soap Opera</td>\n",
       "      <td>La Telenovela Errante</td>\n",
       "      <td>2017</td>\n",
       "      <td>80.00</td>\n",
       "      <td>[Comedy, Drama, Fantasy]</td>\n",
       "    </tr>\n",
       "  </tbody>\n",
       "</table>\n",
       "</div>"
      ],
      "text/plain": [
       "      tconst                    primary_title              original_title  \\\n",
       "0  tt0063540                        Sunghursh                   Sunghursh   \n",
       "1  tt0066787  One Day Before the Rainy Season             Ashad Ka Ek Din   \n",
       "2  tt0069049       The Other Side of the Wind  The Other Side of the Wind   \n",
       "3  tt0069204                  Sabse Bada Sukh             Sabse Bada Sukh   \n",
       "4  tt0100275         The Wandering Soap Opera       La Telenovela Errante   \n",
       "\n",
       "   start_year  runtime_minutes                    genres  \n",
       "0        2013           175.00    [Action, Crime, Drama]  \n",
       "1        2019           114.00        [Biography, Drama]  \n",
       "2        2018           122.00                   [Drama]  \n",
       "3        2018              nan           [Comedy, Drama]  \n",
       "4        2017            80.00  [Comedy, Drama, Fantasy]  "
      ]
     },
     "execution_count": 355,
     "metadata": {},
     "output_type": "execute_result"
    }
   ],
   "source": [
    "df4.head()"
   ]
  },
  {
   "cell_type": "code",
   "execution_count": 356,
   "metadata": {},
   "outputs": [
    {
     "data": {
      "text/plain": [
       "727        Marvel's The Avengers\n",
       "1875     Avengers: Age of Ultron\n",
       "3080               Black Panther\n",
       "2758    Star Wars: The Last Jedi\n",
       "1127                      Frozen\n",
       "Name: title, dtype: object"
      ]
     },
     "execution_count": 356,
     "metadata": {},
     "output_type": "execute_result"
    }
   ],
   "source": [
    "bv_movie_titles.head()"
   ]
  },
  {
   "cell_type": "code",
   "execution_count": 361,
   "metadata": {},
   "outputs": [
    {
     "name": "stdout",
     "output_type": "stream",
     "text": [
      "                       title     genres\n",
      "0      Marvel's The Avengers        NaN\n",
      "1    Avengers: Age of Ultron     Action\n",
      "2    Avengers: Age of Ultron  Adventure\n",
      "3    Avengers: Age of Ultron     Sci-Fi\n",
      "4              Black Panther     Action\n",
      "..                       ...        ...\n",
      "274                     Prom      Drama\n",
      "275                     Prom     Family\n",
      "276           People Like Us     Comedy\n",
      "277           People Like Us      Drama\n",
      "278           People Like Us      Drama\n",
      "\n",
      "[279 rows x 2 columns]\n"
     ]
    }
   ],
   "source": [
    "#df4.rename(columns={'primary_title': 'title'}, inplace=True)\n",
    "new_df.rename(columns={'primary_title': 'title'}, inplace=True)\n",
    "bv_movie_titles_df = pd.DataFrame({'title': bv_movie_titles})\n",
    "required_merge = bv_movie_titles_df.merge(new_df, on='title', how='left')\n",
    "bv_movie_genres = required_merge[['title', 'genres']]\n",
    "print(bv_movie_genres)\n"
   ]
  },
  {
   "cell_type": "code",
   "execution_count": 362,
   "metadata": {},
   "outputs": [
    {
     "name": "stdout",
     "output_type": "stream",
     "text": [
      "                                          title     genres\n",
      "0                         Marvel's The Avengers        NaN\n",
      "1                       Avengers: Age of Ultron     Action\n",
      "2                       Avengers: Age of Ultron  Adventure\n",
      "3                       Avengers: Age of Ultron     Sci-Fi\n",
      "4                                 Black Panther     Action\n",
      "5                                 Black Panther  Adventure\n",
      "6                                 Black Panther     Sci-Fi\n",
      "7   Harry Potter and the Deathly Hallows Part 2        NaN\n",
      "8                      Star Wars: The Last Jedi     Action\n",
      "9                      Star Wars: The Last Jedi  Adventure\n",
      "10                     Star Wars: The Last Jedi    Fantasy\n",
      "11               Jurassic World: Fallen Kingdom     Action\n",
      "12               Jurassic World: Fallen Kingdom  Adventure\n",
      "13               Jurassic World: Fallen Kingdom     Sci-Fi\n",
      "14                                       Frozen  Adventure\n",
      "15                                       Frozen      Drama\n",
      "16                                       Frozen      Sport\n",
      "17                                       Frozen    Fantasy\n",
      "18                                       Frozen    Romance\n",
      "19                                       Frozen  Adventure\n",
      "20                                       Frozen  Animation\n",
      "21                                       Frozen     Comedy\n",
      "22                  Beauty and the Beast (2017)        NaN\n",
      "23                                Incredibles 2     Action\n",
      "24                                Incredibles 2  Adventure\n",
      "25                                Incredibles 2  Animation\n",
      "26                                   Iron Man 3     Action\n",
      "27                                   Iron Man 3  Adventure\n",
      "28                                   Iron Man 3     Sci-Fi\n"
     ]
    }
   ],
   "source": [
    "top_10_grossed_movies_title=top_10_grossed_movies['title']\n",
    "top_10_grossed_movies_df = pd.DataFrame({'title': top_10_grossed_movies_title})\n",
    "required_grossmerge = top_10_grossed_movies_df.merge(new_df, on='title', how='left')\n",
    "top_10_grossed_movies_genres = required_grossmerge[['title', 'genres']]\n",
    "print(top_10_grossed_movies_genres)\n",
    "\n"
   ]
  },
  {
   "cell_type": "code",
   "execution_count": 363,
   "metadata": {},
   "outputs": [
    {
     "data": {
      "text/plain": [
       "Adventure      57\n",
       "Comedy         38\n",
       "Action         30\n",
       "Animation      25\n",
       "Drama          24\n",
       "Family         19\n",
       "Fantasy        13\n",
       "Biography      10\n",
       "Documentary     9\n",
       "Sci-Fi          9\n",
       "History         6\n",
       "Romance         5\n",
       "Sport           4\n",
       "Crime           3\n",
       "Thriller        3\n",
       "Name: genres, dtype: int64"
      ]
     },
     "execution_count": 363,
     "metadata": {},
     "output_type": "execute_result"
    }
   ],
   "source": [
    "bv_movie_genres_df=pd.DataFrame(bv_movie_genres)\n",
    "bv_movie_genres_df.isnull().sum()\n",
    "bv_movie_genres_df.dropna()\n",
    "top_15_genres=bv_movie_genres_df['genres'].value_counts()\n",
    "top_15_genres.head(15)"
   ]
  },
  {
   "cell_type": "code",
   "execution_count": 364,
   "metadata": {},
   "outputs": [
    {
     "data": {
      "image/png": "[encoded data removed]",
      "text/plain": [
       "<Figure size 720x432 with 1 Axes>"
      ]
     },
     "metadata": {
      "needs_background": "light"
     },
     "output_type": "display_data"
    }
   ],
   "source": [
    "plt.figure(figsize=(10, 6))\n",
    "sns.barplot(x=top_15_genres.head(15).index, y=top_15_genres.head(15).values)\n",
    "plt.title('Top 15 Most Frequent Genres for top studio BV')\n",
    "plt.xlabel('Genre')\n",
    "plt.ylabel('Count')\n",
    "plt.xticks(rotation=75)\n",
    "plt.tight_layout()\n",
    "plt.show()"
   ]
  },
  {
   "cell_type": "code",
   "execution_count": 365,
   "metadata": {},
   "outputs": [
    {
     "name": "stdout",
     "output_type": "stream",
     "text": [
      "The most frequent genre is 'Adventure' with 57 occurrences.\n"
     ]
    }
   ],
   "source": [
    "genre_counts = bv_movie_genres['genres'].value_counts()\n",
    "most_frequent_genre = genre_counts.idxmax()\n",
    "frequency_of_most_frequent_genre = genre_counts.max()\n",
    "print(f\"The most frequent genre is '{most_frequent_genre}' with {frequency_of_most_frequent_genre} occurrences.\")"
   ]
  },
  {
   "cell_type": "code",
   "execution_count": 366,
   "metadata": {},
   "outputs": [
    {
     "name": "stdout",
     "output_type": "stream",
     "text": [
      "                        title   total_gross     genres\n",
      "0     Avengers: Age of Ultron 1405400000.00     Action\n",
      "1     Avengers: Age of Ultron 1405400000.00  Adventure\n",
      "2     Avengers: Age of Ultron 1405400000.00     Sci-Fi\n",
      "3               Black Panther 1347000000.00     Action\n",
      "4               Black Panther 1347000000.00  Adventure\n",
      "...                       ...           ...        ...\n",
      "7244      Beauty and the Dogs           nan   Thriller\n",
      "7245                The Quake           nan     Action\n",
      "7246                The Quake           nan      Drama\n",
      "7247                The Quake           nan   Thriller\n",
      "7248        An Actor Prepares           nan     Comedy\n",
      "\n",
      "[7249 rows x 3 columns]\n"
     ]
    }
   ],
   "source": [
    "new_df.rename(columns={'primary_title': 'title'}, inplace=True)\n",
    "df14 = df1.merge(new_df, left_on='title', right_on='title', how='inner')\n",
    "\n",
    "# Select the desired columns: 'title', 'total_gross', and 'genres'\n",
    "result_df14 = df14[['title', 'total_gross', 'genres']]\n",
    "\n",
    "# Display the resulting DataFrame\n",
    "print(result_df14)\n"
   ]
  },
  {
   "cell_type": "code",
   "execution_count": 367,
   "metadata": {},
   "outputs": [
    {
     "data": {
      "text/html": [
       "<div>\n",
       "<style scoped>\n",
       "    .dataframe tbody tr th:only-of-type {\n",
       "        vertical-align: middle;\n",
       "    }\n",
       "\n",
       "    .dataframe tbody tr th {\n",
       "        vertical-align: top;\n",
       "    }\n",
       "\n",
       "    .dataframe thead th {\n",
       "        text-align: right;\n",
       "    }\n",
       "</style>\n",
       "<table border=\"1\" class=\"dataframe\">\n",
       "  <thead>\n",
       "    <tr style=\"text-align: right;\">\n",
       "      <th></th>\n",
       "      <th>title</th>\n",
       "      <th>total_gross</th>\n",
       "      <th>genres</th>\n",
       "    </tr>\n",
       "  </thead>\n",
       "  <tbody>\n",
       "    <tr>\n",
       "      <th>0</th>\n",
       "      <td>Avengers: Age of Ultron</td>\n",
       "      <td>1405400000.00</td>\n",
       "      <td>Action</td>\n",
       "    </tr>\n",
       "    <tr>\n",
       "      <th>1</th>\n",
       "      <td>Avengers: Age of Ultron</td>\n",
       "      <td>1405400000.00</td>\n",
       "      <td>Adventure</td>\n",
       "    </tr>\n",
       "    <tr>\n",
       "      <th>2</th>\n",
       "      <td>Avengers: Age of Ultron</td>\n",
       "      <td>1405400000.00</td>\n",
       "      <td>Sci-Fi</td>\n",
       "    </tr>\n",
       "    <tr>\n",
       "      <th>3</th>\n",
       "      <td>Black Panther</td>\n",
       "      <td>1347000000.00</td>\n",
       "      <td>Action</td>\n",
       "    </tr>\n",
       "    <tr>\n",
       "      <th>4</th>\n",
       "      <td>Black Panther</td>\n",
       "      <td>1347000000.00</td>\n",
       "      <td>Adventure</td>\n",
       "    </tr>\n",
       "    <tr>\n",
       "      <th>...</th>\n",
       "      <td>...</td>\n",
       "      <td>...</td>\n",
       "      <td>...</td>\n",
       "    </tr>\n",
       "    <tr>\n",
       "      <th>4520</th>\n",
       "      <td>Aurora</td>\n",
       "      <td>10800.00</td>\n",
       "      <td>Comedy</td>\n",
       "    </tr>\n",
       "    <tr>\n",
       "      <th>4521</th>\n",
       "      <td>Aurora</td>\n",
       "      <td>10800.00</td>\n",
       "      <td>Drama</td>\n",
       "    </tr>\n",
       "    <tr>\n",
       "      <th>4522</th>\n",
       "      <td>Aurora</td>\n",
       "      <td>10800.00</td>\n",
       "      <td>Romance</td>\n",
       "    </tr>\n",
       "    <tr>\n",
       "      <th>4523</th>\n",
       "      <td>Aurora</td>\n",
       "      <td>10800.00</td>\n",
       "      <td>Horror</td>\n",
       "    </tr>\n",
       "    <tr>\n",
       "      <th>4524</th>\n",
       "      <td>Aurora</td>\n",
       "      <td>10800.00</td>\n",
       "      <td>Thriller</td>\n",
       "    </tr>\n",
       "  </tbody>\n",
       "</table>\n",
       "<p>4523 rows × 3 columns</p>\n",
       "</div>"
      ],
      "text/plain": [
       "                        title   total_gross     genres\n",
       "0     Avengers: Age of Ultron 1405400000.00     Action\n",
       "1     Avengers: Age of Ultron 1405400000.00  Adventure\n",
       "2     Avengers: Age of Ultron 1405400000.00     Sci-Fi\n",
       "3               Black Panther 1347000000.00     Action\n",
       "4               Black Panther 1347000000.00  Adventure\n",
       "...                       ...           ...        ...\n",
       "4520                   Aurora      10800.00     Comedy\n",
       "4521                   Aurora      10800.00      Drama\n",
       "4522                   Aurora      10800.00    Romance\n",
       "4523                   Aurora      10800.00     Horror\n",
       "4524                   Aurora      10800.00   Thriller\n",
       "\n",
       "[4523 rows x 3 columns]"
      ]
     },
     "execution_count": 367,
     "metadata": {},
     "output_type": "execute_result"
    }
   ],
   "source": [
    "result_df14.isnull()\n",
    "result_df14.dropna()"
   ]
  },
  {
   "cell_type": "code",
   "execution_count": 368,
   "metadata": {},
   "outputs": [
    {
     "data": {
      "text/plain": [
       "genres\n",
       "Adventure   119793348881.90\n",
       "Action      106058673054.90\n",
       "Comedy       77395416492.00\n",
       "Drama        68195958289.00\n",
       "Animation    38923828497.00\n",
       "Sci-Fi       38628524687.90\n",
       "Thriller     34573501869.00\n",
       "Fantasy      27574309599.00\n",
       "Crime        18881017972.00\n",
       "Romance      16004232394.00\n",
       "Name: total_gross, dtype: float64"
      ]
     },
     "execution_count": 368,
     "metadata": {},
     "output_type": "execute_result"
    }
   ],
   "source": [
    "grouped_genres=result_df14.groupby('genres')['total_gross'].sum()\n",
    "grouped_genres = grouped_genres.sort_values(ascending=False)\n",
    "top10_grouped_genres=grouped_genres.head(10)\n",
    "top10_grouped_genres"
   ]
  },
  {
   "cell_type": "code",
   "execution_count": 369,
   "metadata": {
    "scrolled": true
   },
   "outputs": [
    {
     "data": {
      "image/png": "[encoded data removed]",
      "text/plain": [
       "<Figure size 720x432 with 1 Axes>"
      ]
     },
     "metadata": {
      "needs_background": "light"
     },
     "output_type": "display_data"
    }
   ],
   "source": [
    "top10_grouped_genres = top10_grouped_genres.reset_index()\n",
    "plt.figure(figsize=(10, 6))\n",
    "sns.barplot(x='genres', y='total_gross', data=top10_grouped_genres,hue='total_gross',dodge=False)\n",
    "plt.legend(bbox_to_anchor=(1.05,1),loc=2)\n",
    "plt.title('Top 10 Grossing genres')\n",
    "plt.xlabel('genres')\n",
    "plt.ylabel('Total Gross')\n",
    "#plt.yticks(top10_std['total_gross'], ['${:,.0f}'.format(label) for label in top10_std['total_gross']])\n",
    "\n",
    "plt.show()\n"
   ]
  },
  {
   "cell_type": "code",
   "execution_count": 370,
   "metadata": {},
   "outputs": [
    {
     "data": {
      "text/html": [
       "<div>\n",
       "<style scoped>\n",
       "    .dataframe tbody tr th:only-of-type {\n",
       "        vertical-align: middle;\n",
       "    }\n",
       "\n",
       "    .dataframe tbody tr th {\n",
       "        vertical-align: top;\n",
       "    }\n",
       "\n",
       "    .dataframe thead th {\n",
       "        text-align: right;\n",
       "    }\n",
       "</style>\n",
       "<table border=\"1\" class=\"dataframe\">\n",
       "  <thead>\n",
       "    <tr style=\"text-align: right;\">\n",
       "      <th></th>\n",
       "      <th>tconst</th>\n",
       "      <th>title</th>\n",
       "      <th>original_title</th>\n",
       "      <th>start_year</th>\n",
       "      <th>runtime_minutes</th>\n",
       "      <th>genres</th>\n",
       "    </tr>\n",
       "  </thead>\n",
       "  <tbody>\n",
       "    <tr>\n",
       "      <th>0</th>\n",
       "      <td>tt0063540</td>\n",
       "      <td>Sunghursh</td>\n",
       "      <td>Sunghursh</td>\n",
       "      <td>2013</td>\n",
       "      <td>175.00</td>\n",
       "      <td>Action</td>\n",
       "    </tr>\n",
       "    <tr>\n",
       "      <th>1</th>\n",
       "      <td>tt0063540</td>\n",
       "      <td>Sunghursh</td>\n",
       "      <td>Sunghursh</td>\n",
       "      <td>2013</td>\n",
       "      <td>175.00</td>\n",
       "      <td>Crime</td>\n",
       "    </tr>\n",
       "  </tbody>\n",
       "</table>\n",
       "</div>"
      ],
      "text/plain": [
       "      tconst      title original_title  start_year  runtime_minutes  genres\n",
       "0  tt0063540  Sunghursh      Sunghursh        2013           175.00  Action\n",
       "1  tt0063540  Sunghursh      Sunghursh        2013           175.00   Crime"
      ]
     },
     "execution_count": 370,
     "metadata": {},
     "output_type": "execute_result"
    }
   ],
   "source": [
    "new_df.head(2)"
   ]
  },
  {
   "cell_type": "code",
   "execution_count": 371,
   "metadata": {
    "scrolled": true
   },
   "outputs": [
    {
     "data": {
      "text/html": [
       "<div>\n",
       "<style scoped>\n",
       "    .dataframe tbody tr th:only-of-type {\n",
       "        vertical-align: middle;\n",
       "    }\n",
       "\n",
       "    .dataframe tbody tr th {\n",
       "        vertical-align: top;\n",
       "    }\n",
       "\n",
       "    .dataframe thead th {\n",
       "        text-align: right;\n",
       "    }\n",
       "</style>\n",
       "<table border=\"1\" class=\"dataframe\">\n",
       "  <thead>\n",
       "    <tr style=\"text-align: right;\">\n",
       "      <th></th>\n",
       "      <th>id</th>\n",
       "      <th>release_date</th>\n",
       "      <th>movie</th>\n",
       "      <th>production_budget</th>\n",
       "      <th>domestic_gross</th>\n",
       "      <th>worldwide_gross</th>\n",
       "    </tr>\n",
       "  </thead>\n",
       "  <tbody>\n",
       "    <tr>\n",
       "      <th>0</th>\n",
       "      <td>1</td>\n",
       "      <td>Dec 18, 2009</td>\n",
       "      <td>Avatar</td>\n",
       "      <td>$425,000,000</td>\n",
       "      <td>$760,507,625</td>\n",
       "      <td>$2,776,345,279</td>\n",
       "    </tr>\n",
       "    <tr>\n",
       "      <th>1</th>\n",
       "      <td>2</td>\n",
       "      <td>May 20, 2011</td>\n",
       "      <td>Pirates of the Caribbean: On Stranger Tides</td>\n",
       "      <td>$410,600,000</td>\n",
       "      <td>$241,063,875</td>\n",
       "      <td>$1,045,663,875</td>\n",
       "    </tr>\n",
       "  </tbody>\n",
       "</table>\n",
       "</div>"
      ],
      "text/plain": [
       "   id  release_date                                        movie  \\\n",
       "0   1  Dec 18, 2009                                       Avatar   \n",
       "1   2  May 20, 2011  Pirates of the Caribbean: On Stranger Tides   \n",
       "\n",
       "  production_budget domestic_gross worldwide_gross  \n",
       "0      $425,000,000   $760,507,625  $2,776,345,279  \n",
       "1      $410,600,000   $241,063,875  $1,045,663,875  "
      ]
     },
     "execution_count": 371,
     "metadata": {},
     "output_type": "execute_result"
    }
   ],
   "source": [
    "df9.head(2)"
   ]
  },
  {
   "cell_type": "code",
   "execution_count": 372,
   "metadata": {},
   "outputs": [],
   "source": [
    "df49 = new_df.merge(df9, left_on='title', right_on='movie', how='inner')\n",
    "\n",
    "# Extract year from release_date column and convert it to integer\n",
    "df49['release_year'] = pd.to_datetime(df49['release_date']).dt.year.astype(int)\n"
   ]
  },
  {
   "cell_type": "code",
   "execution_count": 373,
   "metadata": {},
   "outputs": [],
   "source": [
    "result_df49=df49[['genres','worldwide_gross','release_year']]"
   ]
  },
  {
   "cell_type": "code",
   "execution_count": 374,
   "metadata": {},
   "outputs": [
    {
     "name": "stdout",
     "output_type": "stream",
     "text": [
      "<class 'pandas.core.frame.DataFrame'>\n",
      "Int64Index: 7204 entries, 0 to 7203\n",
      "Data columns (total 3 columns):\n",
      " #   Column           Non-Null Count  Dtype \n",
      "---  ------           --------------  ----- \n",
      " 0   genres           7204 non-null   object\n",
      " 1   worldwide_gross  7204 non-null   object\n",
      " 2   release_year     7204 non-null   int32 \n",
      "dtypes: int32(1), object(2)\n",
      "memory usage: 197.0+ KB\n"
     ]
    }
   ],
   "source": [
    "result_df49.info()"
   ]
  },
  {
   "cell_type": "code",
   "execution_count": 375,
   "metadata": {
    "scrolled": true
   },
   "outputs": [
    {
     "name": "stderr",
     "output_type": "stream",
     "text": [
      "<ipython-input-375-b778d8ae8504>:1: SettingWithCopyWarning: \n",
      "A value is trying to be set on a copy of a slice from a DataFrame.\n",
      "Try using .loc[row_indexer,col_indexer] = value instead\n",
      "\n",
      "See the caveats in the documentation: https://pandas.pydata.org/pandas-docs/stable/user_guide/indexing.html#returning-a-view-versus-a-copy\n",
      "  result_df49['worldwide_gross'] = result_df49['worldwide_gross'].astype(str)\n",
      "<ipython-input-375-b778d8ae8504>:2: SettingWithCopyWarning: \n",
      "A value is trying to be set on a copy of a slice from a DataFrame.\n",
      "Try using .loc[row_indexer,col_indexer] = value instead\n",
      "\n",
      "See the caveats in the documentation: https://pandas.pydata.org/pandas-docs/stable/user_guide/indexing.html#returning-a-view-versus-a-copy\n",
      "  result_df49['worldwide_gross'] = result_df49['worldwide_gross'].str.replace('$', '').str.replace(',', '').astype(float)\n"
     ]
    },
    {
     "data": {
      "text/plain": [
       "<Figure size 1152x432 with 0 Axes>"
      ]
     },
     "metadata": {},
     "output_type": "display_data"
    },
    {
     "data": {
      "image/png": "[encoded data removed]",
      "text/plain": [
       "<Figure size 432x288 with 1 Axes>"
      ]
     },
     "metadata": {
      "needs_background": "light"
     },
     "output_type": "display_data"
    }
   ],
   "source": [
    "result_df49['worldwide_gross'] = result_df49['worldwide_gross'].astype(str)\n",
    "result_df49['worldwide_gross'] = result_df49['worldwide_gross'].str.replace('$', '').str.replace(',', '').astype(float)\n",
    "# Round the release_year to the nearest decade\n",
    "grouped_df['release_decade'] = (result_df49['release_year'] // 10) * 10\n",
    "\n",
    "# Choose the top N genres based on total gross\n",
    "top_n = 5\n",
    "top_genres = grouped_df.groupby('genres')['worldwide_gross'].sum().nlargest(top_n).index\n",
    "\n",
    "# Filter the DataFrame to include only the top genres\n",
    "filtered_df = grouped_df[grouped_df['genres'].isin(top_genres)]\n",
    "\n",
    "# Create a pivot table for plotting\n",
    "pivot_table = filtered_df.pivot_table(index='release_decade', columns='genres', values='worldwide_gross', aggfunc='sum', fill_value=0)\n",
    "\n",
    "# Set the figure size to span the entire width\n",
    "plt.figure(figsize=(16, 6))\n",
    "\n",
    "# Plot the data with thicker bars and readable years on the y-axis\n",
    "colors = ['b', 'g', 'r', 'c', 'm']  # Define colors for the genres\n",
    "ax = pivot_table.plot(kind='bar', stacked=True, color=colors, width=0.8)\n",
    "plt.title('Top Grossed Genres Over the Decades')\n",
    "plt.ylabel('Worldwide Gross (in billions)')\n",
    "plt.xlabel('Release Decade')\n",
    "plt.xticks(rotation=0)  # Remove rotation on x-axis labels\n",
    "plt.yticks(fontsize=12)  # Increase font size for y-axis labels\n",
    "plt.legend(title='Genres', loc='upper left', labels=top_genres)\n",
    "plt.tight_layout()  # Ensure all labels are visible\n",
    "\n",
    "plt.show()"
   ]
  },
  {
   "cell_type": "code",
   "execution_count": 376,
   "metadata": {},
   "outputs": [
    {
     "data": {
      "image/png": "[encoded data removed]",
      "text/plain": [
       "<Figure size 1080x720 with 1 Axes>"
      ]
     },
     "metadata": {
      "needs_background": "light"
     },
     "output_type": "display_data"
    }
   ],
   "source": [
    "# Assuming your DataFrame is named df\n",
    "# Filter data for years after 1980\n",
    "df_filtered = result_df49[result_df49['release_year'] >= 1980]\n",
    "\n",
    "# Group by genre and calculate total gross\n",
    "genre_total_gross = df_filtered.groupby('genres')['worldwide_gross'].sum()\n",
    "\n",
    "# Select the top 10 genres by total gross\n",
    "top_10_genres = genre_total_gross.nlargest(10)\n",
    "\n",
    "# Filter the original DataFrame to include only the top 10 genres\n",
    "df_filtered = df_filtered[df_filtered['genres'].isin(top_10_genres.index)]\n",
    "\n",
    "# Pivot the DataFrame for plotting\n",
    "genre_yearly_gross = df_filtered.groupby(['genres', 'release_year'])['worldwide_gross'].sum().unstack().fillna(0)\n",
    "\n",
    "# Transpose the DataFrame so that years are on the y-axis\n",
    "genre_yearly_gross = genre_yearly_gross.T\n",
    "\n",
    "# Set a larger figure size (adjust the numbers as needed)\n",
    "plt.figure(figsize=(15, 10))\n",
    "\n",
    "# Create a line chart for each genre\n",
    "for genre in genre_yearly_gross.columns:\n",
    "    plt.plot(genre_yearly_gross.index, genre_yearly_gross[genre], label=genre)\n",
    "\n",
    "# Set labels and title\n",
    "plt.xlabel('Release Year')\n",
    "plt.ylabel('Total Gross')\n",
    "plt.title('Total Gross by Genre Over the Years (After 1980)')\n",
    "\n",
    "# Add a legend\n",
    "plt.legend(loc='upper left', bbox_to_anchor=(1, 1))\n",
    "\n",
    "# Show the plot\n",
    "plt.show()"
   ]
  },
  {
   "cell_type": "code",
   "execution_count": 377,
   "metadata": {},
   "outputs": [
    {
     "data": {
      "image/png": "[encoded data removed]",
      "text/plain": [
       "<Figure size 864x432 with 1 Axes>"
      ]
     },
     "metadata": {
      "needs_background": "light"
     },
     "output_type": "display_data"
    }
   ],
   "source": [
    "current_year = 2023\n",
    "last_15_years_df = result_df49[result_df49['release_year'] >= (current_year - 15)]\n",
    "\n",
    "# Group by genres and sum the worldwide gross\n",
    "genre_gross = last_15_years_df.groupby('genres')['worldwide_gross'].sum()\n",
    "\n",
    "# Sort genres by total gross in descending order\n",
    "top_grossed_genres = genre_gross.sort_values(ascending=False).head(10)  # Change the number if you want more or fewer genres\n",
    "\n",
    "# Create a bar plot\n",
    "plt.figure(figsize=(12, 6))\n",
    "top_grossed_genres.plot(kind='bar', color='skyblue')\n",
    "plt.title('Top Grossed Genres in the Last 15 Years')\n",
    "plt.xlabel('Genres')\n",
    "plt.ylabel('Worldwide Gross (in billions)')\n",
    "plt.xticks(rotation=45, ha='right')\n",
    "plt.legend(loc='upper left', bbox_to_anchor=(1, 1))\n",
    "plt.tight_layout()\n",
    "plt.show()"
   ]
  },
  {
   "cell_type": "code",
   "execution_count": null,
   "metadata": {},
   "outputs": [],
   "source": []
  },
  {
   "cell_type": "code",
   "execution_count": null,
   "metadata": {},
   "outputs": [],
   "source": []
  }
 ],
 "metadata": {
  "kernelspec": {
   "display_name": "Python (learn-env)",
   "language": "python",
   "name": "learn-env"
  },
  "language_info": {
   "codemirror_mode": {
    "name": "ipython",
    "version": 3
   },
   "file_extension": ".py",
   "mimetype": "text/x-python",
   "name": "python",
   "nbconvert_exporter": "python",
   "pygments_lexer": "ipython3",
   "version": "3.8.5"
  }
 },
 "nbformat": 4,
 "nbformat_minor": 4
}
